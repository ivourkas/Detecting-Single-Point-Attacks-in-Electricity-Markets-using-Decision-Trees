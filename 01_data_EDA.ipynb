{
 "cells": [
  {
   "cell_type": "code",
   "execution_count": 1,
   "id": "581198af",
   "metadata": {},
   "outputs": [],
   "source": [
    "import numpy as np\n",
    "import pandas as pd\n",
    "\n",
    "# Load the dataset\n",
    "df1 = pd.read_csv('data/N300_G69_p1.csv', header=None)\n",
    "df2 = pd.read_csv('data/N300_G69_p2.csv', header=None)\n",
    "df3 = pd.read_csv('data/N300_G69_p3.csv', header=None)\n"
   ]
  },
  {
   "cell_type": "code",
   "execution_count": 2,
   "id": "3dd9bf9f",
   "metadata": {},
   "outputs": [],
   "source": [
    "# Transpose the DataFrames\n",
    "df1 = df1.T\n",
    "df2 = df2.T\n",
    "df3 = df3.T\n",
    "\n",
    "# Generate column names\n",
    "feature_columns = [f\"ft{i}\" for i in range(1, 34033)]\n",
    "remaining_columns = [\"fval\", \n",
    "                     \"ssn\", \"type_of_attack\", \"gen_attacked\"]\n",
    "all_columns = feature_columns + remaining_columns\n",
    "\n",
    "# Assign column names to the DataFrames\n",
    "df1.columns = all_columns\n",
    "df2.columns = all_columns\n",
    "df3.columns = all_columns\n",
    "\n",
    "# Concatenate the DataFrames\n",
    "combined_df = pd.concat([df1, df2, df3])"
   ]
  },
  {
   "cell_type": "code",
   "execution_count": 3,
   "id": "6a2d3ba9",
   "metadata": {},
   "outputs": [
    {
     "data": {
      "text/plain": [
       "(1920, 34036)"
      ]
     },
     "execution_count": 3,
     "metadata": {},
     "output_type": "execute_result"
    }
   ],
   "source": [
    "# Export to new csv to check the column names\n",
    "combined_df.to_csv('data/N300_G69_transposed.csv', header=combined_df.columns, index=False)\n",
    "df = pd.read_csv('data/N300_G69_transposed.csv')\n",
    "df.shape"
   ]
  },
  {
   "cell_type": "code",
   "execution_count": 4,
   "id": "96c6f002",
   "metadata": {},
   "outputs": [
    {
     "data": {
      "text/plain": [
       "(1920, 34036)"
      ]
     },
     "execution_count": 4,
     "metadata": {},
     "output_type": "execute_result"
    }
   ],
   "source": [
    "# Drop NaN values\n",
    "\n",
    "# Filter rows where all features are zero\n",
    "all_zero_rows = (df[feature_columns]==-100000).all(axis=1)\n",
    "df = df[~all_zero_rows] # Keep rows where at least one feature is non-zero\n",
    "\n",
    "df.shape"
   ]
  }
 ],
 "metadata": {
  "kernelspec": {
   "display_name": "base",
   "language": "python",
   "name": "python3"
  },
  "language_info": {
   "codemirror_mode": {
    "name": "ipython",
    "version": 3
   },
   "file_extension": ".py",
   "mimetype": "text/x-python",
   "name": "python",
   "nbconvert_exporter": "python",
   "pygments_lexer": "ipython3",
   "version": "3.11.5"
  }
 },
 "nbformat": 4,
 "nbformat_minor": 5
}
